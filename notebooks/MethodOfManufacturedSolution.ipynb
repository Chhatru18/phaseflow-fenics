{
 "cells": [
  {
   "cell_type": "markdown",
   "metadata": {},
   "source": [
    "In this notebook, we use the [method of manufactured solutions](http://prod.sandia.gov/techlib/access-control.cgi/2000/001444.pdf) to verify that [Phaseflow](https://github.com/geo-fluid-dynamics/phaseflow-fenics) correctly solves its governing equations."
   ]
  },
  {
   "cell_type": "markdown",
   "metadata": {},
   "source": [
    "# Set up this Jupyter notebook\n",
    "Enable equation numbering:"
   ]
  },
  {
   "cell_type": "code",
   "execution_count": 1,
   "metadata": {},
   "outputs": [
    {
     "data": {
      "application/javascript": [
       "MathJax.Hub.Config({\n",
       "  TeX: { equationNumbers: { autoNumber: \"AMS\" } }\n",
       "});"
      ],
      "text/plain": [
       "<IPython.core.display.Javascript object>"
      ]
     },
     "metadata": {},
     "output_type": "display_data"
    }
   ],
   "source": [
    "%%javascript\n",
    "MathJax.Hub.Config({\n",
    "  TeX: { equationNumbers: { autoNumber: \"AMS\" } }\n",
    "});"
   ]
  },
  {
   "cell_type": "markdown",
   "metadata": {},
   "source": [
    "Enable inline plotting with matplotlib:"
   ]
  },
  {
   "cell_type": "code",
   "execution_count": 2,
   "metadata": {},
   "outputs": [],
   "source": [
    "%matplotlib inline"
   ]
  },
  {
   "cell_type": "markdown",
   "metadata": {},
   "source": [
    "# Set up SymPy"
   ]
  },
  {
   "cell_type": "code",
   "execution_count": 17,
   "metadata": {},
   "outputs": [],
   "source": [
    "import sympy\n",
    "import sympy.vector\n",
    "from sympy.vector import divergence as div, gradient as grad\n",
    "\n",
    "t = sympy.symbols('t')\n",
    "\n",
    "R = sympy.vector.CoordSys3D('R')\n",
    "\n",
    "diff, exp, sin, tanh, transpose = sympy.diff, sympy.exp, sympy.sin, sympy.tanh, sympy.transpose\n",
    "\n",
    "x, y, z = R.x, R.y, R.z"
   ]
  },
  {
   "cell_type": "markdown",
   "metadata": {},
   "source": [
    "# Define the governing equations\n",
    "The governing equations are\n",
    "\n",
    "$$\\begin{align}\n",
    "    \\nabla\\cdot\\mathbf{u} &= s_p, \\\\\n",
    "    \\frac{\\partial}{\\partial t}\\mathbf{u} + \\left(\\mathbf{u}\\cdot\\nabla\\right)\\mathbf{u} + \\nabla p - \\nabla\\cdot\\left(2 \\mu_{SL}\\left((P(T)\\right) \\mathbf{D(u)}\\right) \n",
    "    + \\mathbf{f}_B(T) &= \\mathbf{s_u}, \\\\\n",
    "    \\frac{\\partial}{\\partial t}(CT) + \\nabla\\cdot(CT\\mathbf{u}) \n",
    "    - \\mathscr{Pr}^{-1}\\nabla\\cdot(K\\nabla T) + \n",
    "    \\mathscr{Ste}^{-1} \\frac{\\partial}{\\partial t} P(T) &= s_T\n",
    "\\end{align}$$\n",
    "\n",
    "where\n",
    "\n",
    "$$\n",
    "\\begin{align}\n",
    "    \\mathbf{D(u)} &= \\frac{1}{2}\\left(\\nabla\\mathbf{u} + \\nabla\\mathbf{u}^\\intercal\\right),\\\\\n",
    "    P(T;T_f,r) &= \\frac{1}{2}\\left(1 - \\tanh\\frac{T_f - T}{r}\\right),\\\\\n",
    "    \\mu_{SL}(P(T)) &= \\mu_S + \\left(\\mu_L - \\mu_S\\right)P(T)\n",
    "\\end{align}\n",
    "$$"
   ]
  },
  {
   "cell_type": "code",
   "execution_count": 30,
   "metadata": {},
   "outputs": [],
   "source": [
    "dim = 3\n",
    "\n",
    "def vector_gradient(u):\n",
    "    \"\"\"sympy.physics.vectors.gradient apparently does not handle vector fields, so we implement this.\"\"\"\n",
    "    gradu = sympy.Array(dim, 1)\n",
    "    \n",
    "    for i in range(dim):\n",
    "    \n",
    "        gradu[i] = grad(u[i])\n",
    "    \n",
    "    return gradu\n",
    "\n",
    "\n",
    "def D(u):\n",
    "    \n",
    "    gradu = vector_gradient(u)\n",
    "    \n",
    "    graduT = transpose(gradu)\n",
    "    \n",
    "    return 0.5*(gradu + graduT)\n",
    "    \n",
    "\n",
    "def P_general(T, T_f):\n",
    "    \n",
    "    return 0.5*(1. - tanh((T_f - T)/r))\n",
    "\n",
    "\n",
    "def mu_SL_general(PofT, mu_S, mu_L):\n",
    "    \n",
    "    return mu_S + (mu_L - mu_S)*PofT"
   ]
  },
  {
   "cell_type": "markdown",
   "metadata": {},
   "source": [
    "though for this study we will only consider $T_f = 0.01, \\mu_L = 1, \\mu_S = 10^8$."
   ]
  },
  {
   "cell_type": "code",
   "execution_count": 31,
   "metadata": {},
   "outputs": [],
   "source": [
    "T_f = 0.01\n",
    "\n",
    "def P(T):\n",
    "    \n",
    "    return P_general(T, T_f)\n",
    "\n",
    "\n",
    "\n",
    "mu_S, mu_L = 1.e8, 1.\n",
    "\n",
    "def mu_SL(PofT):\n",
    "    \n",
    "    return mu_SL_general(PofT, mu_S, mu_L)"
   ]
  },
  {
   "cell_type": "markdown",
   "metadata": {},
   "source": [
    "Typically the right-hand sides are $\\mathbf{s} = \\left( s_p, \\mathbf{s_u}, s_T \\right)^\\intercal = \\mathbf{0}$, but we include $\\mathbf{s}$ as a generic source term to facilitate code verification via MMS.\n",
    "\n",
    "We denote the vector-valued solution of this system of PDE's as\n",
    "$$\\begin{align}\n",
    "    \\mathbf{w} = (p, \\mathbf{u}, T)^\\intercal\n",
    "\\end{align}$$"
   ]
  },
  {
   "cell_type": "markdown",
   "metadata": {},
   "source": [
    "# Regularize\n",
    "Note that we have already regularized the phase function with a hyperbolic tangent function. While testing Phaseflow so far, small smoothing parameters $r$ have destabilized the Newton solver. For the current MMS verification, we will use $r = 0.025$, the value from [the toy PCM melting regression test](https://github.com/geo-fluid-dynamics/phaseflow-fenics/blob/master/tests/test_melt_pcm.py)."
   ]
  },
  {
   "cell_type": "code",
   "execution_count": 32,
   "metadata": {},
   "outputs": [],
   "source": [
    "r = 0.025"
   ]
  },
  {
   "cell_type": "markdown",
   "metadata": {},
   "source": [
    "# Select a buoyancy model\n",
    "For this study, we will only consider the linear buoyancy model from Danaila's simulation of the octadecane PCM melting benchmark, i.e.\n",
    "$$ \\begin{align}\n",
    "    \\mathbf{f}_B(T) = \\left(0, \\frac{-\\mathscr{Ra}}{\\mathscr{PrRe}^2}T\\right)^\\intercal\n",
    "\\end{align}$$"
   ]
  },
  {
   "cell_type": "code",
   "execution_count": 33,
   "metadata": {},
   "outputs": [],
   "source": [
    "def f_B(T, Ra, Pr, Re):\n",
    "    \n",
    "    return -Ra/(Pr*Re*Re)*T*R.y"
   ]
  },
  {
   "cell_type": "markdown",
   "metadata": {},
   "source": [
    "# Manufacture solution\n",
    "\n",
    "To test the full capabilities of the implementation, we must select a solution where $\\mathbf{u}$ and $T$ are twice differentiable in space and once differentiable in time, and where $p$ is once differentiable in space. For the present study, we will only consider a two-dimensional solution.\n",
    "\n",
    "$$\n",
    "\\begin{align}\n",
    "    p_\\mathrm{MMS} &= e^{t} (\\sin x + \\sin{2y}), \\\\\n",
    "    \\mathbf{u}_\\mathrm{MMS} &= e^{2t} (\\sin{3x} + \\sin{4y}, \\sin{5x} + \\sin{6y})^\\intercal, \\\\\n",
    "    T_\\mathrm{MMS} &= e^{3t} (\\sin{7x} + \\sin{8y})\n",
    "\\end{align}\n",
    "$$"
   ]
  },
  {
   "cell_type": "code",
   "execution_count": 34,
   "metadata": {},
   "outputs": [
    {
     "name": "stdout",
     "output_type": "stream",
     "text": [
      "p = (sin(R.x) + sin(2.0*R.y))*exp(t)\n",
      "u = ((sin(3.0*R.x) + sin(4.0*R.y))*exp(2.0*t))*R.i + ((sin(5.0*R.x) + sin(6.0*R.y))*exp(2.0*t))*R.j\n",
      "T = (sin(7.0*R.x) + sin(8.0*R.y))*exp(3.0*t)\n"
     ]
    }
   ],
   "source": [
    "p = exp(t)*(sin(x) + sin(2.*y))\n",
    "\n",
    "u = exp(2.*t)*((sin(3.*x) + sin(4.*y))*R.i + (sin(5.*x) + sin(6.*y))*R.j)\n",
    "\n",
    "T = exp(3.*t)*(sin(7.*x) + sin(8.*y))\n",
    "    \n",
    "# @todo Re-design the manufactured temperature solution such that it contains T_f\n",
    "    \n",
    "print(\"p = \" + str(p))\n",
    "\n",
    "print(\"u = \" + str(u))\n",
    "\n",
    "print(\"T = \" + str(T))"
   ]
  },
  {
   "cell_type": "markdown",
   "metadata": {},
   "source": [
    "# Derive the manufactured source term\n",
    "\n",
    "Given the manufactured solution $\\mathbf{w}_{\\mathrm{MMS}}$, derive the manufactured source terms $\\mathbf{s}_{\\mathrm{MMS}}$ with SymPy."
   ]
  },
  {
   "cell_type": "code",
   "execution_count": 35,
   "metadata": {},
   "outputs": [
    {
     "name": "stdout",
     "output_type": "stream",
     "text": [
      "s_p = 3.0*exp(2.0*t)*cos(3.0*R.x) + 6.0*exp(2.0*t)*cos(6.0*R.y)\n"
     ]
    }
   ],
   "source": [
    "s_p = div(u)\n",
    "\n",
    "print(\"s_p = \" + str(s_p))"
   ]
  },
  {
   "cell_type": "markdown",
   "metadata": {},
   "source": [
    "The momentum equation is not as simple. SymPy does not view operators as tensors, and hence we cannot take the tensor product between the gradient operator and a tensor. Therefore, we must program this manually."
   ]
  },
  {
   "cell_type": "code",
   "execution_count": 36,
   "metadata": {},
   "outputs": [],
   "source": [
    "def nabla_dot_tensor(A):\n",
    "    \"\"\" Compute $\\nabla \\dot \\mathbf{A}$.\"\"\"\n",
    "    result = 0.\n",
    "    \n",
    "    for i in range(dim):\n",
    "    \n",
    "        for j, direction in enumerate([R.x, R.y, R.z]):\n",
    "        \n",
    "            result += A[i,j].diff(R[i], R)*direction\n",
    "    \n",
    "    return result"
   ]
  },
  {
   "cell_type": "code",
   "execution_count": 37,
   "metadata": {},
   "outputs": [
    {
     "ename": "TypeError",
     "evalue": "'int' object is not iterable",
     "output_type": "error",
     "traceback": [
      "\u001b[0;31m---------------------------------------------------------------------------\u001b[0m",
      "\u001b[0;31mTypeError\u001b[0m                                 Traceback (most recent call last)",
      "\u001b[0;32m<ipython-input-37-f6d43bd150d1>\u001b[0m in \u001b[0;36m<module>\u001b[0;34m()\u001b[0m\n\u001b[1;32m      1\u001b[0m \u001b[0ms_u\u001b[0m \u001b[0;34m=\u001b[0m \u001b[0mu\u001b[0m\u001b[0;34m.\u001b[0m\u001b[0mdiff\u001b[0m\u001b[0;34m(\u001b[0m\u001b[0mt\u001b[0m\u001b[0;34m)\u001b[0m\u001b[0;34m\u001b[0m\u001b[0m\n\u001b[1;32m      2\u001b[0m \u001b[0;34m\u001b[0m\u001b[0m\n\u001b[0;32m----> 3\u001b[0;31m \u001b[0ms_u\u001b[0m \u001b[0;34m+=\u001b[0m \u001b[0msympy\u001b[0m\u001b[0;34m.\u001b[0m\u001b[0mtensorproduct\u001b[0m\u001b[0;34m(\u001b[0m\u001b[0mvector_gradient\u001b[0m\u001b[0;34m(\u001b[0m\u001b[0mu\u001b[0m\u001b[0;34m)\u001b[0m\u001b[0;34m,\u001b[0m \u001b[0mu\u001b[0m\u001b[0;34m)\u001b[0m\u001b[0;34m\u001b[0m\u001b[0m\n\u001b[0m\u001b[1;32m      4\u001b[0m \u001b[0;34m\u001b[0m\u001b[0m\n\u001b[1;32m      5\u001b[0m \u001b[0ms_u\u001b[0m \u001b[0;34m+=\u001b[0m \u001b[0mgrad\u001b[0m\u001b[0;34m(\u001b[0m\u001b[0mp\u001b[0m\u001b[0;34m)\u001b[0m\u001b[0;34m\u001b[0m\u001b[0m\n",
      "\u001b[0;32m<ipython-input-30-7d9c7c9d9736>\u001b[0m in \u001b[0;36mvector_gradient\u001b[0;34m(u)\u001b[0m\n\u001b[1;32m      3\u001b[0m \u001b[0;32mdef\u001b[0m \u001b[0mvector_gradient\u001b[0m\u001b[0;34m(\u001b[0m\u001b[0mu\u001b[0m\u001b[0;34m)\u001b[0m\u001b[0;34m:\u001b[0m\u001b[0;34m\u001b[0m\u001b[0m\n\u001b[1;32m      4\u001b[0m     \u001b[0;34m\"\"\"sympy.physics.vectors.gradient apparently does not handle vector fields, so we implement this.\"\"\"\u001b[0m\u001b[0;34m\u001b[0m\u001b[0m\n\u001b[0;32m----> 5\u001b[0;31m     \u001b[0mgradu\u001b[0m \u001b[0;34m=\u001b[0m \u001b[0msympy\u001b[0m\u001b[0;34m.\u001b[0m\u001b[0mArray\u001b[0m\u001b[0;34m(\u001b[0m\u001b[0mdim\u001b[0m\u001b[0;34m,\u001b[0m \u001b[0;36m1\u001b[0m\u001b[0;34m)\u001b[0m\u001b[0;34m\u001b[0m\u001b[0m\n\u001b[0m\u001b[1;32m      6\u001b[0m \u001b[0;34m\u001b[0m\u001b[0m\n\u001b[1;32m      7\u001b[0m     \u001b[0;32mfor\u001b[0m \u001b[0mi\u001b[0m \u001b[0;32min\u001b[0m \u001b[0mrange\u001b[0m\u001b[0;34m(\u001b[0m\u001b[0mdim\u001b[0m\u001b[0;34m)\u001b[0m\u001b[0;34m:\u001b[0m\u001b[0;34m\u001b[0m\u001b[0m\n",
      "\u001b[0;32m/usr/local/lib/python3.5/dist-packages/sympy/tensor/array/dense_ndim_array.py\u001b[0m in \u001b[0;36m__new__\u001b[0;34m(cls, iterable, shape, **kwargs)\u001b[0m\n\u001b[1;32m    136\u001b[0m \u001b[0;34m\u001b[0m\u001b[0m\n\u001b[1;32m    137\u001b[0m     \u001b[0;32mdef\u001b[0m \u001b[0m__new__\u001b[0m\u001b[0;34m(\u001b[0m\u001b[0mcls\u001b[0m\u001b[0;34m,\u001b[0m \u001b[0miterable\u001b[0m\u001b[0;34m=\u001b[0m\u001b[0;32mNone\u001b[0m\u001b[0;34m,\u001b[0m \u001b[0mshape\u001b[0m\u001b[0;34m=\u001b[0m\u001b[0;32mNone\u001b[0m\u001b[0;34m,\u001b[0m \u001b[0;34m**\u001b[0m\u001b[0mkwargs\u001b[0m\u001b[0;34m)\u001b[0m\u001b[0;34m:\u001b[0m\u001b[0;34m\u001b[0m\u001b[0m\n\u001b[0;32m--> 138\u001b[0;31m         \u001b[0;32mreturn\u001b[0m \u001b[0mcls\u001b[0m\u001b[0;34m.\u001b[0m\u001b[0m_new\u001b[0m\u001b[0;34m(\u001b[0m\u001b[0miterable\u001b[0m\u001b[0;34m,\u001b[0m \u001b[0mshape\u001b[0m\u001b[0;34m,\u001b[0m \u001b[0;34m**\u001b[0m\u001b[0mkwargs\u001b[0m\u001b[0;34m)\u001b[0m\u001b[0;34m\u001b[0m\u001b[0m\n\u001b[0m\u001b[1;32m    139\u001b[0m \u001b[0;34m\u001b[0m\u001b[0m\n\u001b[1;32m    140\u001b[0m     \u001b[0;34m@\u001b[0m\u001b[0mclassmethod\u001b[0m\u001b[0;34m\u001b[0m\u001b[0m\n",
      "\u001b[0;32m/usr/local/lib/python3.5/dist-packages/sympy/tensor/array/dense_ndim_array.py\u001b[0m in \u001b[0;36m_new\u001b[0;34m(cls, iterable, shape, **kwargs)\u001b[0m\n\u001b[1;32m    144\u001b[0m         \u001b[0mshape\u001b[0m\u001b[0;34m,\u001b[0m \u001b[0mflat_list\u001b[0m \u001b[0;34m=\u001b[0m \u001b[0mcls\u001b[0m\u001b[0;34m.\u001b[0m\u001b[0m_handle_ndarray_creation_inputs\u001b[0m\u001b[0;34m(\u001b[0m\u001b[0miterable\u001b[0m\u001b[0;34m,\u001b[0m \u001b[0mshape\u001b[0m\u001b[0;34m,\u001b[0m \u001b[0;34m**\u001b[0m\u001b[0mkwargs\u001b[0m\u001b[0;34m)\u001b[0m\u001b[0;34m\u001b[0m\u001b[0m\n\u001b[1;32m    145\u001b[0m         \u001b[0mshape\u001b[0m \u001b[0;34m=\u001b[0m \u001b[0mTuple\u001b[0m\u001b[0;34m(\u001b[0m\u001b[0;34m*\u001b[0m\u001b[0mmap\u001b[0m\u001b[0;34m(\u001b[0m\u001b[0m_sympify\u001b[0m\u001b[0;34m,\u001b[0m \u001b[0mshape\u001b[0m\u001b[0;34m)\u001b[0m\u001b[0;34m)\u001b[0m\u001b[0;34m\u001b[0m\u001b[0m\n\u001b[0;32m--> 146\u001b[0;31m         \u001b[0mflat_list\u001b[0m \u001b[0;34m=\u001b[0m \u001b[0mflatten\u001b[0m\u001b[0;34m(\u001b[0m\u001b[0mflat_list\u001b[0m\u001b[0;34m)\u001b[0m\u001b[0;34m\u001b[0m\u001b[0m\n\u001b[0m\u001b[1;32m    147\u001b[0m         \u001b[0mflat_list\u001b[0m \u001b[0;34m=\u001b[0m \u001b[0mTuple\u001b[0m\u001b[0;34m(\u001b[0m\u001b[0;34m*\u001b[0m\u001b[0mflat_list\u001b[0m\u001b[0;34m)\u001b[0m\u001b[0;34m\u001b[0m\u001b[0m\n\u001b[1;32m    148\u001b[0m         \u001b[0mself\u001b[0m \u001b[0;34m=\u001b[0m \u001b[0mBasic\u001b[0m\u001b[0;34m.\u001b[0m\u001b[0m__new__\u001b[0m\u001b[0;34m(\u001b[0m\u001b[0mcls\u001b[0m\u001b[0;34m,\u001b[0m \u001b[0mflat_list\u001b[0m\u001b[0;34m,\u001b[0m \u001b[0mshape\u001b[0m\u001b[0;34m,\u001b[0m \u001b[0;34m**\u001b[0m\u001b[0mkwargs\u001b[0m\u001b[0;34m)\u001b[0m\u001b[0;34m\u001b[0m\u001b[0m\n",
      "\u001b[0;32m/usr/local/lib/python3.5/dist-packages/sympy/utilities/iterables.py\u001b[0m in \u001b[0;36mflatten\u001b[0;34m(iterable, levels, cls)\u001b[0m\n\u001b[1;32m     72\u001b[0m     \u001b[0mresult\u001b[0m \u001b[0;34m=\u001b[0m \u001b[0;34m[\u001b[0m\u001b[0;34m]\u001b[0m\u001b[0;34m\u001b[0m\u001b[0m\n\u001b[1;32m     73\u001b[0m \u001b[0;34m\u001b[0m\u001b[0m\n\u001b[0;32m---> 74\u001b[0;31m     \u001b[0;32mfor\u001b[0m \u001b[0mel\u001b[0m \u001b[0;32min\u001b[0m \u001b[0miterable\u001b[0m\u001b[0;34m:\u001b[0m\u001b[0;34m\u001b[0m\u001b[0m\n\u001b[0m\u001b[1;32m     75\u001b[0m         \u001b[0;32mif\u001b[0m \u001b[0mreducible\u001b[0m\u001b[0;34m(\u001b[0m\u001b[0mel\u001b[0m\u001b[0;34m)\u001b[0m\u001b[0;34m:\u001b[0m\u001b[0;34m\u001b[0m\u001b[0m\n\u001b[1;32m     76\u001b[0m             \u001b[0;32mif\u001b[0m \u001b[0mhasattr\u001b[0m\u001b[0;34m(\u001b[0m\u001b[0mel\u001b[0m\u001b[0;34m,\u001b[0m \u001b[0;34m'args'\u001b[0m\u001b[0;34m)\u001b[0m\u001b[0;34m:\u001b[0m\u001b[0;34m\u001b[0m\u001b[0m\n",
      "\u001b[0;31mTypeError\u001b[0m: 'int' object is not iterable"
     ]
    }
   ],
   "source": [
    "s_u = u.diff(t)\n",
    "\n",
    "s_u += sympy.tensorproduct(vector_gradient(u), u) \n",
    "\n",
    "s_u += grad(p) \n",
    "\n",
    "s_u -= 2.*nabla_dot_tensor(mu_SL(P(T))*D(u)) \n",
    "\n",
    "s_u += f_B(T)\n",
    "\n",
    "print(\"s_u = \" + str(s_u))"
   ]
  },
  {
   "cell_type": "code",
   "execution_count": null,
   "metadata": {},
   "outputs": [],
   "source": [
    "import fenics"
   ]
  },
  {
   "cell_type": "code",
   "execution_count": null,
   "metadata": {},
   "outputs": [],
   "source": [
    "import phaseflow"
   ]
  },
  {
   "cell_type": "markdown",
   "metadata": {},
   "source": []
  }
 ],
 "metadata": {
  "kernelspec": {
   "display_name": "Python 3",
   "language": "python",
   "name": "python3"
  },
  "language_info": {
   "codemirror_mode": {
    "name": "ipython",
    "version": 3
   },
   "file_extension": ".py",
   "mimetype": "text/x-python",
   "name": "python",
   "nbconvert_exporter": "python",
   "pygments_lexer": "ipython3",
   "version": "3.5.2"
  }
 },
 "nbformat": 4,
 "nbformat_minor": 2
}
