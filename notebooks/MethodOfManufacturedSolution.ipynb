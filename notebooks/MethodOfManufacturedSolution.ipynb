{
 "cells": [
  {
   "cell_type": "markdown",
   "metadata": {},
   "source": [
    "In this notebook, we use the [method of manufactured solutions](http://prod.sandia.gov/techlib/access-control.cgi/2000/001444.pdf) to verify that [Phaseflow](https://github.com/geo-fluid-dynamics/phaseflow-fenics) correctly solves its governing equations."
   ]
  },
  {
   "cell_type": "markdown",
   "metadata": {},
   "source": [
    "# Set up this Jupyter notebook\n",
    "Enable equation numbering:"
   ]
  },
  {
   "cell_type": "code",
   "execution_count": 1,
   "metadata": {},
   "outputs": [
    {
     "data": {
      "application/javascript": [
       "MathJax.Hub.Config({\n",
       "  TeX: { equationNumbers: { autoNumber: \"AMS\" } }\n",
       "});"
      ],
      "text/plain": [
       "<IPython.core.display.Javascript object>"
      ]
     },
     "metadata": {},
     "output_type": "display_data"
    }
   ],
   "source": [
    "%%javascript\n",
    "MathJax.Hub.Config({\n",
    "  TeX: { equationNumbers: { autoNumber: \"AMS\" } }\n",
    "});"
   ]
  },
  {
   "cell_type": "markdown",
   "metadata": {},
   "source": [
    "Enable inline plotting with matplotlib:"
   ]
  },
  {
   "cell_type": "code",
   "execution_count": 2,
   "metadata": {},
   "outputs": [],
   "source": [
    "%matplotlib inline"
   ]
  },
  {
   "cell_type": "markdown",
   "metadata": {},
   "source": [
    "# Set up SymPy"
   ]
  },
  {
   "cell_type": "code",
   "execution_count": 3,
   "metadata": {},
   "outputs": [],
   "source": [
    "import sympy\n",
    "from sympy.physics.vector import ReferenceFrame\n",
    "from sympy.physics.vector import divergence as div, gradient as grad\n",
    "\n",
    "\n",
    "t = sympy.symbols('t')\n",
    "\n",
    "R = ReferenceFrame('R')\n",
    "\n",
    "diff, exp, sin, tanh, transpose = sympy.diff, sympy.exp, sympy.sin, sympy.tanh, sympy.transpose\n",
    "\n",
    "x, y = R[0], R[1]"
   ]
  },
  {
   "cell_type": "markdown",
   "metadata": {},
   "source": [
    "# Define the governing equations\n",
    "The governing equations are\n",
    "\n",
    "$$\\begin{align}\n",
    "    \\nabla\\cdot\\mathbf{u} &= s_p, \\\\\n",
    "    \\frac{\\partial}{\\partial t}\\mathbf{u} + \\nabla p - \\nabla\\cdot\\left(2 \\mu_{SL}\\left((P(T)\\right) \\mathbf{D(u)}\\right) \n",
    "    + \\mathbf{f}_B(T) &= \\mathbf{s_u}, \\\\\n",
    "    \\frac{\\partial}{\\partial t}(CT) + \\nabla\\cdot(CT\\mathbf{u}) \n",
    "    - \\mathscr{Pr}^{-1}\\nabla\\cdot(K\\nabla T) + \n",
    "    \\mathscr{Ste}^{-1} \\frac{\\partial}{\\partial t} P(T) &= s_T\n",
    "\\end{align}$$\n",
    "\n",
    "where\n",
    "\n",
    "$$\n",
    "\\begin{align}\n",
    "    \\mathbf{D(u)} &= \\frac{1}{2}\\left(\\nabla\\mathbf{u} + \\nabla\\mathbf{u}^\\intercal\\right),\\\\\n",
    "    P(T;T_f,r) &= \\frac{1}{2}\\left(1 - \\tanh\\frac{T_f - T}{r}\\right),\\\\\n",
    "    \\mu_{SL}(P(T)) &= \\mu_S + \\left(\\mu_L - \\mu_S\\right)P(T)\n",
    "\\end{align}\n",
    "$$"
   ]
  },
  {
   "cell_type": "code",
   "execution_count": 4,
   "metadata": {},
   "outputs": [],
   "source": [
    "def D(u):\n",
    "    \n",
    "    return 0.5*(grad(u, R) + transpose(u, R))\n",
    "    \n",
    "\n",
    "def P_general(T, T_f):\n",
    "    \n",
    "    return 0.5*(1. - tanh((T_f - T)/r))\n",
    "\n",
    "\n",
    "def mu_SL(PofT):\n",
    "    \n",
    "    return mu_S + (mu_L - mu_S)*PofT"
   ]
  },
  {
   "cell_type": "markdown",
   "metadata": {},
   "source": [
    "though for this study we will only consider $T_f = 0.01$."
   ]
  },
  {
   "cell_type": "code",
   "execution_count": 5,
   "metadata": {},
   "outputs": [],
   "source": [
    "T_f = 0.01\n",
    "\n",
    "def P(T):\n",
    "    \n",
    "    return P_general(T, T_f)"
   ]
  },
  {
   "cell_type": "markdown",
   "metadata": {},
   "source": [
    "Typically the right-hand sides are $\\mathbf{s} = \\left( s_p, \\mathbf{s_u}, s_T \\right)^\\intercal = \\mathbf{0}$, but we include $\\mathbf{s}$ as a generic source term to facilitate code verification via MMS.\n",
    "\n",
    "We denote the vector-valued solution of this system of PDE's as\n",
    "$$\\begin{align}\n",
    "    \\mathbf{w} = (p, \\mathbf{u}, T)^\\intercal\n",
    "\\end{align}$$"
   ]
  },
  {
   "cell_type": "markdown",
   "metadata": {},
   "source": [
    "# Regularize\n",
    "Note that we have already regularized the phase function with a hyperbolic tangent function. While testing Phaseflow so far, small smoothing parameters $r$ have destabilized the Newton solver. For the current MMS verification, we will use $r = 0.025$, the value from [the toy PCM melting regression test](https://github.com/geo-fluid-dynamics/phaseflow-fenics/blob/master/tests/test_melt_pcm.py)."
   ]
  },
  {
   "cell_type": "code",
   "execution_count": 6,
   "metadata": {},
   "outputs": [],
   "source": [
    "r = 0.025"
   ]
  },
  {
   "cell_type": "markdown",
   "metadata": {},
   "source": [
    "# Select a buoyancy model\n",
    "For this study, we will only consider the linear buoyancy model from Danaila's simulation of the octadecane PCM melting benchmark, i.e.\n",
    "$$ \\begin{align}\n",
    "    \\mathbf{f}_B(T) = \\left(0, \\frac{-\\mathscr{Ra}}{\\mathscr{PrRe}^2}T\\right)^\\intercal\n",
    "\\end{align}$$"
   ]
  },
  {
   "cell_type": "code",
   "execution_count": 7,
   "metadata": {},
   "outputs": [],
   "source": [
    "def f_B(T, Ra, Pr, Re):\n",
    "    \n",
    "    return -Ra/(Pr*Re*Re)*T*R.y"
   ]
  },
  {
   "cell_type": "markdown",
   "metadata": {},
   "source": [
    "# Manufacture solution\n",
    "\n",
    "To test the full capabilities of the implementation, we must select a solution where $\\mathbf{u}$ and $T$ are twice differentiable in space and once differentiable in time, and where $p$ is once differentiable in space. For the present study, we will only consider a two-dimensional solution.\n",
    "\n",
    "$$\n",
    "\\begin{align}\n",
    "    p_\\mathrm{MMS} &= e^{t} (\\sin x + \\sin{2y}), \\\\\n",
    "    \\mathbf{u}_\\mathrm{MMS} &= e^{2t} (\\sin{3x} + \\sin{4y}, \\sin{5x} + \\sin{6y})^\\intercal, \\\\\n",
    "    T_\\mathrm{MMS} &= e^{3t} (\\sin{7x} + \\sin{8y})\n",
    "\\end{align}\n",
    "$$"
   ]
  },
  {
   "cell_type": "code",
   "execution_count": 8,
   "metadata": {},
   "outputs": [
    {
     "name": "stdout",
     "output_type": "stream",
     "text": [
      "p = (sin(R_x) + sin(2.0*R_y))*exp(t)\n",
      "u = (sin(3.0*R_x) + sin(4.0*R_y))*exp(2.0*t)*R.x + (sin(5.0*R_x) + sin(6.0*R_y))*exp(2.0*t)*R.y\n",
      "T = (sin(7.0*R_x) + sin(8.0*R_y))*exp(3.0*t)\n"
     ]
    }
   ],
   "source": [
    "p, u, T = exp(t)*(sin(x) + sin(2.*y)),\\\n",
    "    exp(2.*t)*((sin(3.*x) + sin(4.*y))*R.x + (sin(5.*x) + sin(6.*y))*R.y),\\\n",
    "    exp(3.*t)*(sin(7.*x) + sin(8.*y))\n",
    "    \n",
    "# @todo Re-design the manufactured temperature solution such that it contains T_f\n",
    "    \n",
    "print(\"p = \" + str(p))\n",
    "\n",
    "print(\"u = \" + str(u))\n",
    "\n",
    "print(\"T = \" + str(T))"
   ]
  },
  {
   "cell_type": "markdown",
   "metadata": {},
   "source": [
    "# Derive the manufactured source term\n",
    "\n",
    "Given the manufactured solution $\\mathbf{w}_{\\mathrm{MMS}}$, derive the manufactured source terms $\\mathbf{s}_{\\mathrm{MMS}}$ with SymPy."
   ]
  },
  {
   "cell_type": "code",
   "execution_count": 9,
   "metadata": {},
   "outputs": [
    {
     "name": "stdout",
     "output_type": "stream",
     "text": [
      "s_p = 3.0*exp(2.0*t)*cos(3.0*R_x) + 6.0*exp(2.0*t)*cos(6.0*R_y)\n"
     ]
    },
    {
     "ename": "AttributeError",
     "evalue": "'Symbol' object has no attribute 'x'",
     "output_type": "error",
     "traceback": [
      "\u001b[0;31m---------------------------------------------------------------------------\u001b[0m",
      "\u001b[0;31mAttributeError\u001b[0m                            Traceback (most recent call last)",
      "\u001b[0;32m<ipython-input-9-0cfd9f92aa8f>\u001b[0m in \u001b[0;36m<module>\u001b[0;34m()\u001b[0m\n\u001b[1;32m      3\u001b[0m \u001b[0mprint\u001b[0m\u001b[0;34m(\u001b[0m\u001b[0;34m\"s_p = \"\u001b[0m \u001b[0;34m+\u001b[0m \u001b[0mstr\u001b[0m\u001b[0;34m(\u001b[0m\u001b[0ms_p\u001b[0m\u001b[0;34m)\u001b[0m\u001b[0;34m)\u001b[0m\u001b[0;34m\u001b[0m\u001b[0m\n\u001b[1;32m      4\u001b[0m \u001b[0;34m\u001b[0m\u001b[0m\n\u001b[0;32m----> 5\u001b[0;31m \u001b[0ms_u\u001b[0m \u001b[0;34m=\u001b[0m \u001b[0mdiff\u001b[0m\u001b[0;34m(\u001b[0m\u001b[0mu\u001b[0m\u001b[0;34m,\u001b[0m \u001b[0mt\u001b[0m\u001b[0;34m)\u001b[0m\u001b[0;34m\u001b[0m\u001b[0m\n\u001b[0m\u001b[1;32m      6\u001b[0m \u001b[0;34m\u001b[0m\u001b[0m\n\u001b[1;32m      7\u001b[0m \u001b[0ms_u\u001b[0m \u001b[0;34m+=\u001b[0m \u001b[0mgrad\u001b[0m\u001b[0;34m(\u001b[0m\u001b[0mp\u001b[0m\u001b[0;34m,\u001b[0m \u001b[0mR\u001b[0m\u001b[0;34m)\u001b[0m\u001b[0;34m\u001b[0m\u001b[0m\n",
      "\u001b[0;32m/usr/local/lib/python3.5/dist-packages/sympy/core/function.py\u001b[0m in \u001b[0;36mdiff\u001b[0;34m(f, *symbols, **kwargs)\u001b[0m\n\u001b[1;32m   1835\u001b[0m     \u001b[0;32mexcept\u001b[0m \u001b[0mAttributeError\u001b[0m\u001b[0;34m:\u001b[0m\u001b[0;34m\u001b[0m\u001b[0m\n\u001b[1;32m   1836\u001b[0m         \u001b[0;32mpass\u001b[0m\u001b[0;34m\u001b[0m\u001b[0m\n\u001b[0;32m-> 1837\u001b[0;31m     \u001b[0;32mreturn\u001b[0m \u001b[0mDerivative\u001b[0m\u001b[0;34m(\u001b[0m\u001b[0mf\u001b[0m\u001b[0;34m,\u001b[0m \u001b[0;34m*\u001b[0m\u001b[0msymbols\u001b[0m\u001b[0;34m,\u001b[0m \u001b[0;34m**\u001b[0m\u001b[0mkwargs\u001b[0m\u001b[0;34m)\u001b[0m\u001b[0;34m\u001b[0m\u001b[0m\n\u001b[0m\u001b[1;32m   1838\u001b[0m \u001b[0;34m\u001b[0m\u001b[0m\n\u001b[1;32m   1839\u001b[0m \u001b[0;34m\u001b[0m\u001b[0m\n",
      "\u001b[0;32m/usr/local/lib/python3.5/dist-packages/sympy/core/function.py\u001b[0m in \u001b[0;36m__new__\u001b[0;34m(cls, expr, *variables, **assumptions)\u001b[0m\n\u001b[1;32m   1059\u001b[0m     \u001b[0;32mdef\u001b[0m \u001b[0m__new__\u001b[0m\u001b[0;34m(\u001b[0m\u001b[0mcls\u001b[0m\u001b[0;34m,\u001b[0m \u001b[0mexpr\u001b[0m\u001b[0;34m,\u001b[0m \u001b[0;34m*\u001b[0m\u001b[0mvariables\u001b[0m\u001b[0;34m,\u001b[0m \u001b[0;34m**\u001b[0m\u001b[0massumptions\u001b[0m\u001b[0;34m)\u001b[0m\u001b[0;34m:\u001b[0m\u001b[0;34m\u001b[0m\u001b[0m\n\u001b[1;32m   1060\u001b[0m \u001b[0;34m\u001b[0m\u001b[0m\n\u001b[0;32m-> 1061\u001b[0;31m         \u001b[0mexpr\u001b[0m \u001b[0;34m=\u001b[0m \u001b[0msympify\u001b[0m\u001b[0;34m(\u001b[0m\u001b[0mexpr\u001b[0m\u001b[0;34m)\u001b[0m\u001b[0;34m\u001b[0m\u001b[0m\n\u001b[0m\u001b[1;32m   1062\u001b[0m \u001b[0;34m\u001b[0m\u001b[0m\n\u001b[1;32m   1063\u001b[0m         \u001b[0;31m# There are no variables, we differentiate wrt all of the free symbols\u001b[0m\u001b[0;34m\u001b[0m\u001b[0;34m\u001b[0m\u001b[0m\n",
      "\u001b[0;32m/usr/local/lib/python3.5/dist-packages/sympy/core/sympify.py\u001b[0m in \u001b[0;36msympify\u001b[0;34m(a, locals, convert_xor, strict, rational, evaluate)\u001b[0m\n\u001b[1;32m    352\u001b[0m     \u001b[0;32mtry\u001b[0m\u001b[0;34m:\u001b[0m\u001b[0;34m\u001b[0m\u001b[0m\n\u001b[1;32m    353\u001b[0m         \u001b[0ma\u001b[0m \u001b[0;34m=\u001b[0m \u001b[0ma\u001b[0m\u001b[0;34m.\u001b[0m\u001b[0mreplace\u001b[0m\u001b[0;34m(\u001b[0m\u001b[0;34m'\\n'\u001b[0m\u001b[0;34m,\u001b[0m \u001b[0;34m''\u001b[0m\u001b[0;34m)\u001b[0m\u001b[0;34m\u001b[0m\u001b[0m\n\u001b[0;32m--> 354\u001b[0;31m         \u001b[0mexpr\u001b[0m \u001b[0;34m=\u001b[0m \u001b[0mparse_expr\u001b[0m\u001b[0;34m(\u001b[0m\u001b[0ma\u001b[0m\u001b[0;34m,\u001b[0m \u001b[0mlocal_dict\u001b[0m\u001b[0;34m=\u001b[0m\u001b[0mlocals\u001b[0m\u001b[0;34m,\u001b[0m \u001b[0mtransformations\u001b[0m\u001b[0;34m=\u001b[0m\u001b[0mtransformations\u001b[0m\u001b[0;34m,\u001b[0m \u001b[0mevaluate\u001b[0m\u001b[0;34m=\u001b[0m\u001b[0mevaluate\u001b[0m\u001b[0;34m)\u001b[0m\u001b[0;34m\u001b[0m\u001b[0m\n\u001b[0m\u001b[1;32m    355\u001b[0m     \u001b[0;32mexcept\u001b[0m \u001b[0;34m(\u001b[0m\u001b[0mTokenError\u001b[0m\u001b[0;34m,\u001b[0m \u001b[0mSyntaxError\u001b[0m\u001b[0;34m)\u001b[0m \u001b[0;32mas\u001b[0m \u001b[0mexc\u001b[0m\u001b[0;34m:\u001b[0m\u001b[0;34m\u001b[0m\u001b[0m\n\u001b[1;32m    356\u001b[0m         \u001b[0;32mraise\u001b[0m \u001b[0mSympifyError\u001b[0m\u001b[0;34m(\u001b[0m\u001b[0;34m'could not parse %r'\u001b[0m \u001b[0;34m%\u001b[0m \u001b[0ma\u001b[0m\u001b[0;34m,\u001b[0m \u001b[0mexc\u001b[0m\u001b[0;34m)\u001b[0m\u001b[0;34m\u001b[0m\u001b[0m\n",
      "\u001b[0;32m/usr/local/lib/python3.5/dist-packages/sympy/parsing/sympy_parser.py\u001b[0m in \u001b[0;36mparse_expr\u001b[0;34m(s, local_dict, transformations, global_dict, evaluate)\u001b[0m\n\u001b[1;32m    892\u001b[0m         \u001b[0mcode\u001b[0m \u001b[0;34m=\u001b[0m \u001b[0mcompile\u001b[0m\u001b[0;34m(\u001b[0m\u001b[0mevaluateFalse\u001b[0m\u001b[0;34m(\u001b[0m\u001b[0mcode\u001b[0m\u001b[0;34m)\u001b[0m\u001b[0;34m,\u001b[0m \u001b[0;34m'<string>'\u001b[0m\u001b[0;34m,\u001b[0m \u001b[0;34m'eval'\u001b[0m\u001b[0;34m)\u001b[0m\u001b[0;34m\u001b[0m\u001b[0m\n\u001b[1;32m    893\u001b[0m \u001b[0;34m\u001b[0m\u001b[0m\n\u001b[0;32m--> 894\u001b[0;31m     \u001b[0;32mreturn\u001b[0m \u001b[0meval_expr\u001b[0m\u001b[0;34m(\u001b[0m\u001b[0mcode\u001b[0m\u001b[0;34m,\u001b[0m \u001b[0mlocal_dict\u001b[0m\u001b[0;34m,\u001b[0m \u001b[0mglobal_dict\u001b[0m\u001b[0;34m)\u001b[0m\u001b[0;34m\u001b[0m\u001b[0m\n\u001b[0m\u001b[1;32m    895\u001b[0m \u001b[0;34m\u001b[0m\u001b[0m\n\u001b[1;32m    896\u001b[0m \u001b[0;34m\u001b[0m\u001b[0m\n",
      "\u001b[0;32m/usr/local/lib/python3.5/dist-packages/sympy/parsing/sympy_parser.py\u001b[0m in \u001b[0;36meval_expr\u001b[0;34m(code, local_dict, global_dict)\u001b[0m\n\u001b[1;32m    805\u001b[0m     \"\"\"\n\u001b[1;32m    806\u001b[0m     expr = eval(\n\u001b[0;32m--> 807\u001b[0;31m         code, global_dict, local_dict)  # take local objects in preference\n\u001b[0m\u001b[1;32m    808\u001b[0m \u001b[0;34m\u001b[0m\u001b[0m\n\u001b[1;32m    809\u001b[0m     \u001b[0;32mreturn\u001b[0m \u001b[0mexpr\u001b[0m\u001b[0;34m\u001b[0m\u001b[0m\n",
      "\u001b[0;32m<string>\u001b[0m in \u001b[0;36m<module>\u001b[0;34m()\u001b[0m\n",
      "\u001b[0;31mAttributeError\u001b[0m: 'Symbol' object has no attribute 'x'"
     ]
    }
   ],
   "source": [
    "s_p = div(u, R)\n",
    "\n",
    "print(\"s_p = \" + str(s_p))\n",
    "\n",
    "s_u = diff(u, t) \n",
    "\n",
    "s_u += grad(p, R)\n",
    "\n",
    "s_u -= div(2.*mu_SL(P(T))*D(u), R) \n",
    "\n",
    "s_u += f_B(T)\n",
    "\n",
    "print(\"s_u = \" + str(s_u))"
   ]
  },
  {
   "cell_type": "code",
   "execution_count": null,
   "metadata": {},
   "outputs": [],
   "source": [
    "import fenics"
   ]
  },
  {
   "cell_type": "code",
   "execution_count": null,
   "metadata": {},
   "outputs": [],
   "source": [
    "import phaseflow"
   ]
  },
  {
   "cell_type": "markdown",
   "metadata": {},
   "source": []
  }
 ],
 "metadata": {
  "kernelspec": {
   "display_name": "Python 3",
   "language": "python",
   "name": "python3"
  },
  "language_info": {
   "codemirror_mode": {
    "name": "ipython",
    "version": 3
   },
   "file_extension": ".py",
   "mimetype": "text/x-python",
   "name": "python",
   "nbconvert_exporter": "python",
   "pygments_lexer": "ipython3",
   "version": "3.5.2"
  }
 },
 "nbformat": 4,
 "nbformat_minor": 2
}
