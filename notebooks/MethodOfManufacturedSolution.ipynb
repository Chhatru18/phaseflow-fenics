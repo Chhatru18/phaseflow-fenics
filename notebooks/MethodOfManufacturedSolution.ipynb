{
 "cells": [
  {
   "cell_type": "markdown",
   "metadata": {},
   "source": [
    "In this notebook, we use the [method of manufactured solutions](http://prod.sandia.gov/techlib/access-control.cgi/2000/001444.pdf) to verify that [Phaseflow](https://github.com/geo-fluid-dynamics/phaseflow-fenics) correctly solves its governing equations."
   ]
  },
  {
   "cell_type": "markdown",
   "metadata": {},
   "source": [
    "# Set up this Jupyter notebook\n",
    "Enable equation numbering:"
   ]
  },
  {
   "cell_type": "code",
   "execution_count": null,
   "metadata": {},
   "outputs": [],
   "source": [
    "%%javascript\n",
    "MathJax.Hub.Config({\n",
    "  TeX: { equationNumbers: { autoNumber: \"AMS\" } }\n",
    "});"
   ]
  },
  {
   "cell_type": "markdown",
   "metadata": {},
   "source": [
    "# Set up SymPy"
   ]
  },
  {
   "cell_type": "code",
   "execution_count": null,
   "metadata": {},
   "outputs": [],
   "source": [
    "import sympy\n",
    "import sympy.vector\n",
    "from sympy.vector import divergence as div, gradient as grad\n",
    "\n",
    "t = sympy.symbols('t')\n",
    "\n",
    "R = sympy.vector.CoordSys3D('R')\n",
    "\n",
    "diff, exp, sin, tanh, transpose = sympy.diff, sympy.exp, sympy.sin, sympy.tanh, sympy.transpose\n",
    "\n",
    "x, y, z = R.x, R.y, R.z"
   ]
  },
  {
   "cell_type": "markdown",
   "metadata": {},
   "source": [
    "# Define the governing equations\n",
    "The governing equations are\n",
    "\n",
    "$$\\begin{align}\n",
    "    \\nabla\\cdot\\mathbf{u} &= s_p, \\\\\n",
    "    \\frac{\\partial}{\\partial t}\\mathbf{u} + \\left(\\mathbf{u}\\cdot\\nabla\\right)\\mathbf{u} + \\nabla p - \\nabla\\cdot\\left(2 \\mu_{SL}\\left((P(T)\\right) \\mathbf{D(u)}\\right) \n",
    "    + \\mathbf{f}_B(T) &= \\mathbf{s_u}, \\\\\n",
    "    \\frac{\\partial}{\\partial t}(CT) + \\nabla\\cdot(CT\\mathbf{u}) \n",
    "    - \\mathscr{Pr}^{-1}\\nabla\\cdot(K\\nabla T) + \n",
    "    \\mathscr{Ste}^{-1} \\frac{\\partial}{\\partial t} P(T) &= s_T\n",
    "\\end{align}$$\n",
    "\n",
    "where\n",
    "\n",
    "$$\n",
    "\\begin{align}\n",
    "    \\mathbf{D(u)} &= \\frac{1}{2}\\left(\\nabla\\mathbf{u} + \\nabla\\mathbf{u}^\\intercal\\right)\n",
    "\\end{align}\n",
    "$$\n",
    "\n",
    "We define a regularized phase function\n",
    "$$\n",
    "\\begin{align}\n",
    "    P(T;T_f,r) &= \\frac{1}{2}\\left(1 - \\tanh\\frac{T_f - T}{r}\\right)\n",
    "\\end{align}\n",
    "$$"
   ]
  },
  {
   "cell_type": "code",
   "execution_count": null,
   "metadata": {},
   "outputs": [],
   "source": [
    "def P_general(T, T_f):\n",
    "    \n",
    "    return 0.5*(1. - tanh((T_f - T)/r))"
   ]
  },
  {
   "cell_type": "markdown",
   "metadata": {},
   "source": [
    "and a phase-dependent viscosity\n",
    "$$\n",
    "\\begin{align}\n",
    "    \\mu_{SL}(P(T)) &= \\mu_S + \\left(\\mu_L - \\mu_S\\right)P(T)\n",
    "\\end{align}\n",
    "$$"
   ]
  },
  {
   "cell_type": "code",
   "execution_count": null,
   "metadata": {},
   "outputs": [],
   "source": [
    "def mu_SL_general(PofT, mu_S, mu_L):\n",
    "    \n",
    "    return mu_S + (mu_L - mu_S)*PofT"
   ]
  },
  {
   "cell_type": "markdown",
   "metadata": {},
   "source": [
    "though for this study we will only consider the physical parameters from the octadecane melting benchmark\n",
    "$$\\mathscr{Re} = 1, \\quad \\mathscr{Ra} = 3.27\\times10^5,\\quad \\mathscr{Pr} = 56.2,\\quad \\mathscr{Ste} = 0.045, \\quad C = 1, \\quad K = 1$$\n",
    "and the numerical parameters from danaila2014newton\n",
    "$$T_f = 0.01,\\quad \\mu_L = 1,\\quad \\mu_S = 10^8$$\n",
    "except we use a larger $r$ than from that paper. While testing Phaseflow so far, small smoothing parameters $r$ have destabilized the Newton solver. For the current MMS verification, we will use $r = 0.025$, the value from [the toy PCM melting regression test](https://github.com/geo-fluid-dynamics/phaseflow-fenics/blob/master/tests/test_melt_pcm.py)."
   ]
  },
  {
   "cell_type": "code",
   "execution_count": null,
   "metadata": {},
   "outputs": [],
   "source": [
    "Re = 1.\n",
    "\n",
    "Ra = 3.27e5\n",
    "\n",
    "Pr = 56.2\n",
    "\n",
    "Ste = 0.045\n",
    "\n",
    "C = 1.\n",
    "\n",
    "K = 1.\n",
    "\n",
    "T_f = 0.01\n",
    "\n",
    "mu_L = 1.\n",
    "\n",
    "mu_S = 1.e8\n",
    "\n",
    "def P(T):\n",
    "    \n",
    "    return P_general(T, T_f)\n",
    "\n",
    "\n",
    "def mu_SL(PofT):\n",
    "    \n",
    "    return mu_SL_general(PofT, mu_S, mu_L)\n",
    "\n",
    "\n",
    "r = 0.025"
   ]
  },
  {
   "cell_type": "markdown",
   "metadata": {},
   "source": [
    "Typically the right-hand sides are $\\mathbf{s} = \\left( s_p, \\mathbf{s_u}, s_T \\right)^\\intercal = \\mathbf{0}$, but we include $\\mathbf{s}$ as a generic source term to facilitate code verification via MMS."
   ]
  },
  {
   "cell_type": "markdown",
   "metadata": {},
   "source": [
    "# Select a buoyancy model\n",
    "For this study, we will only consider the linear buoyancy model from Danaila's simulation of the octadecane PCM melting benchmark, i.e.\n",
    "$$ \\begin{align}\n",
    "    \\mathbf{f}_B(T) = \\left(0, \\frac{-\\mathscr{Ra}}{\\mathscr{PrRe}^2}T\\right)^\\intercal\n",
    "\\end{align}$$"
   ]
  },
  {
   "cell_type": "code",
   "execution_count": null,
   "metadata": {},
   "outputs": [],
   "source": [
    "f_B0 = 0.\n",
    "\n",
    "def f_B1(T):\n",
    "    \n",
    "    return -Ra/(Pr*Re*Re)*T\n",
    "\n",
    "\n",
    "def f_B(T):\n",
    "    \n",
    "    return f_B0*R.x + f_B1(T)*R.y"
   ]
  },
  {
   "cell_type": "markdown",
   "metadata": {},
   "source": [
    "# Manufacture solution\n",
    "\n",
    "To test the full capabilities of the implementation, we must select a solution where $\\mathbf{u}$ and $T$ are twice differentiable in space and once differentiable in time, and where $p$ is once differentiable in space. For the present study, we will only consider a two-dimensional solution.\n",
    "\n",
    "$$\n",
    "\\begin{align}\n",
    "    p_\\mathrm{MMS} &= e^{t} (\\sin x + \\sin{2y}), \\\\\n",
    "    \\mathbf{u}_\\mathrm{MMS} &= e^{2t} (\\sin{3x} + \\sin{4y}, \\sin{5x} + \\sin{6y})^\\intercal, \\\\\n",
    "    T_\\mathrm{MMS} &= e^{3t} (\\sin{7x} + \\sin{8y})\n",
    "\\end{align}\n",
    "$$"
   ]
  },
  {
   "cell_type": "code",
   "execution_count": null,
   "metadata": {},
   "outputs": [],
   "source": [
    "p = exp(t)*(sin(x) + sin(2.*y))\n",
    "\n",
    "u0 = exp(2.*t)*(sin(3.*x) + sin(4.*y))\n",
    "\n",
    "u1 = exp(2.*t)*(sin(5.*x) + sin(6.*y))\n",
    "\n",
    "u = u0*R.i + u1*R.j\n",
    "\n",
    "T = exp(3.*t)*(sin(7.*x) + sin(8.*y))\n",
    "    \n",
    "# @todo Re-design the manufactured temperature solution such that it contains T_f\n",
    "    \n",
    "print(\"p = \" + str(p))\n",
    "\n",
    "print(\"u = \" + str(u))\n",
    "\n",
    "print(\"T = \" + str(T))"
   ]
  },
  {
   "cell_type": "markdown",
   "metadata": {},
   "source": [
    "# Derive the manufactured source term\n",
    "\n",
    "Given the manufactured solution, derive the manufactured source terms $\\mathbf{s}_{\\mathrm{MMS}}$ with SymPy. We can use SymPy's vector calculus capabilities for the mass and energy equations."
   ]
  },
  {
   "cell_type": "code",
   "execution_count": null,
   "metadata": {},
   "outputs": [],
   "source": [
    "s_p = div(u)\n",
    "\n",
    "print(\"s_p = \" + str(s_p))"
   ]
  },
  {
   "cell_type": "code",
   "execution_count": 9,
   "metadata": {},
   "outputs": [
    {
     "name": "stdout",
     "output_type": "stream",
     "text": [
      "s_T = 7.0*(sin(3.0*R.x) + sin(4.0*R.y))*exp(5.0*t)*cos(7.0*R.x) + 8.0*(sin(5.0*R.x) + sin(6.0*R.y))*exp(5.0*t)*cos(8.0*R.y) + 1333.33333333333*(sin(7.0*R.x) + sin(8.0*R.y))*(-tanh(-40.0*(sin(7.0*R.x) + sin(8.0*R.y))*exp(3.0*t) + 0.4)**2 + 1)*exp(3.0*t) + 3.0*(sin(7.0*R.x) + sin(8.0*R.y))*exp(3.0*t) + 3.0*(sin(7.0*R.x) + sin(8.0*R.y))*exp(5.0*t)*cos(3.0*R.x) + 6.0*(sin(7.0*R.x) + sin(8.0*R.y))*exp(5.0*t)*cos(6.0*R.y) + 0.871886120996441*exp(3.0*t)*sin(7.0*R.x) + 1.13879003558719*exp(3.0*t)*sin(8.0*R.y)\n"
     ]
    }
   ],
   "source": [
    "s_T = diff(C*T, t) + div(C*T*u) - 1./Pr*div(K*grad(T)) + 1./Ste*diff(P(T), t)\n",
    "\n",
    "print(\"s_T = \" + str(s_T))"
   ]
  },
  {
   "cell_type": "markdown",
   "metadata": {},
   "source": [
    "The momentum equation is not as simple. SymPy cannot compute the gradient of a vector (which should yield a tensor). Furthermore, SymPy does not view operators as tensors, and hence we cannot take the tensor product between the gradient operator and a tensor. Therefore, we rewrite the momentum equation in matrix form and compute the three elements of the source term separately.\n",
    "\n",
    "The elements of the rate of strain tensor $\\mathbf{D(u)}$ are\n",
    "$$ \\begin{align}\n",
    "D_{ij}(\\mathbf{u}) = \\frac{1}{2}\\left(\\frac{\\partial}{\\partial x_j}u_i + \\frac{\\partial}{\\partial x_i} u_j\\right)\n",
    "\\end{align}$$\n",
    "\n",
    "If we believe in operator-valued matrices, then we can write the momentum equation as\n",
    "\n",
    "$$\\begin{equation}\n",
    "    \\frac{\\partial}{\\partial t} \n",
    "    \\left(\n",
    "        \\begin{array}{c}\n",
    "            u_0 \\\\\n",
    "            u_1\n",
    "        \\end{array}\n",
    "    \\right) +\n",
    "    \\left(\n",
    "        \\left(\n",
    "            \\begin{array}{c} \n",
    "                u_0 \\\\\n",
    "                u_1 \n",
    "            \\end{array}\n",
    "        \\right)\n",
    "        \\cdot\n",
    "        \\left(\n",
    "            \\begin{array}{c}\n",
    "                \\frac{\\partial}{\\partial x} \\\\\n",
    "                \\frac{\\partial}{\\partial y}\n",
    "            \\end{array}\n",
    "        \\right)\n",
    "    \\right)\n",
    "    \\left(\n",
    "        \\begin{array}{c}\n",
    "            u_0 \\\\\n",
    "            u_1\n",
    "        \\end{array}\n",
    "    \\right) \n",
    "    +\n",
    "    \\left(\n",
    "        \\begin{array}{c}\n",
    "            \\frac{\\partial}{\\partial x} \\\\\n",
    "            \\frac{\\partial}{\\partial y}\n",
    "        \\end{array}\n",
    "    \\right)\n",
    "    p -\n",
    "    \\left(\n",
    "        \\begin{array}{c}\n",
    "            \\frac{\\partial}{\\partial x} \\\\\n",
    "            \\frac{\\partial}{\\partial y}\n",
    "        \\end{array}\n",
    "    \\right)\n",
    "    \\cdot\n",
    "    \\left(\n",
    "        \\mu_{SL}\\left(P(T)\\right)\n",
    "        \\left[\n",
    "            \\begin{array}{c}\n",
    "                2\\frac{\\partial}{\\partial x}u_0 & \\frac{\\partial}{\\partial y}u_0 + \\frac{\\partial}{\\partial x}u_1 \\\\\n",
    "                \\frac{\\partial}{\\partial y}u_0 + \\frac{\\partial}{\\partial x}u_1 & 2\\frac{\\partial}{\\partial y}u_1\n",
    "            \\end{array}\n",
    "        \\right]\n",
    "    \\right)\n",
    "    +\n",
    "    \\left(\n",
    "        \\begin{array}{c}\n",
    "            f_{B,0}(T) \\\\\n",
    "            f_{B,1}(T)\n",
    "        \\end{array}\n",
    "    \\right)\n",
    "    =\n",
    "    \\left(\n",
    "        \\begin{array}{c}\n",
    "            s_{u,0} \\\\\n",
    "            s_{u,1}\n",
    "        \\end{array}\n",
    "    \\right)\n",
    "\\end{equation}$$"
   ]
  },
  {
   "cell_type": "markdown",
   "metadata": {},
   "source": [
    "SymPy does not believe in operator-valued matrices, so we apply the operators, yielding"
   ]
  },
  {
   "cell_type": "markdown",
   "metadata": {},
   "source": [
    "$$\\begin{equation}\n",
    "    \\frac{\\partial}{\\partial t} \n",
    "    \\left(\n",
    "        \\begin{array}{c}\n",
    "            u_0 \\\\\n",
    "            u_1\n",
    "        \\end{array}\n",
    "    \\right) +\n",
    "    \\left(\n",
    "        \\begin{array}{c} \n",
    "            u_0 \\frac{\\partial}{\\partial x} u_0 + u_1 \\frac{\\partial}{\\partial y} u_0\\\\\n",
    "            u_0 \\frac{\\partial}{\\partial x} u_1 + u_1 \\frac{\\partial}{\\partial y} u_1 \n",
    "        \\end{array}\n",
    "    \\right)\n",
    "    +\n",
    "    \\left(\n",
    "        \\begin{array}{c}\n",
    "            \\frac{\\partial}{\\partial x} p \\\\\n",
    "            \\frac{\\partial}{\\partial y} p\n",
    "        \\end{array}\n",
    "    \\right)\n",
    "    -\n",
    "    \\left(\n",
    "        \\begin{array}{c}\n",
    "            2\\frac{\\partial}{\\partial x} \\mu_{SL}(P(T)) \\frac{\\partial}{\\partial x} u_0 + \\frac{\\partial}{\\partial y} \\mu_{SL}(P(T)) \\left(\\frac{\\partial}{\\partial y}u_0 + \\frac{\\partial}{\\partial x}u_1 \\right) \\\\\n",
    "            2\\frac{\\partial}{\\partial y} \\mu_{SL}(P(T)) \\frac{\\partial}{\\partial y} u_1 + \\frac{\\partial}{\\partial x} \\mu_{SL}(P(T)) \\left(\\frac{\\partial}{\\partial y}u_0 + \\frac{\\partial}{\\partial x}u_1 \\right)\n",
    "        \\end{array}\n",
    "    \\right)\n",
    "    +\n",
    "    \\left(\n",
    "        \\begin{array}{c}\n",
    "            f_{B,0}(T) \\\\\n",
    "            f_{B,1}(T)\n",
    "        \\end{array}\n",
    "    \\right)\n",
    "    =\n",
    "    \\left(\n",
    "        \\begin{array}{c}\n",
    "            s_{u,0} \\\\\n",
    "            s_{u,1}\n",
    "        \\end{array}\n",
    "    \\right)\n",
    "\\end{equation}$$"
   ]
  },
  {
   "cell_type": "code",
   "execution_count": 10,
   "metadata": {},
   "outputs": [
    {
     "name": "stdout",
     "output_type": "stream",
     "text": [
      "s_u0 = 15999999840.0*(5.0*exp(2.0*t)*cos(5.0*R.x) + 4.0*exp(2.0*t)*cos(4.0*R.y))*(-tanh(-40.0*(sin(7.0*R.x) + sin(8.0*R.y))*exp(3.0*t) + 0.4)**2 + 1)*exp(3.0*t)*cos(8.0*R.y) + 2.0*(sin(3.0*R.x) + sin(4.0*R.y))*exp(2.0*t) + 3.0*(sin(3.0*R.x) + sin(4.0*R.y))*exp(4.0*t)*cos(3.0*R.x) + 4.0*(sin(5.0*R.x) + sin(6.0*R.y))*exp(4.0*t)*cos(4.0*R.y) + 83999999160.0*(-tanh(-40.0*(sin(7.0*R.x) + sin(8.0*R.y))*exp(3.0*t) + 0.4)**2 + 1)*exp(5.0*t)*cos(3.0*R.x)*cos(7.0*R.x) + exp(t)*cos(R.x)\n",
      "s_u1 = 13999999860.0*(5.0*exp(2.0*t)*cos(5.0*R.x) + 4.0*exp(2.0*t)*cos(4.0*R.y))*(-tanh(-40.0*(sin(7.0*R.x) + sin(8.0*R.y))*exp(3.0*t) + 0.4)**2 + 1)*exp(3.0*t)*cos(7.0*R.x) + 5.0*(sin(3.0*R.x) + sin(4.0*R.y))*exp(4.0*t)*cos(5.0*R.x) + 2.0*(sin(5.0*R.x) + sin(6.0*R.y))*exp(2.0*t) + 6.0*(sin(5.0*R.x) + sin(6.0*R.y))*exp(4.0*t)*cos(6.0*R.y) - 5818.50533807829*(sin(7.0*R.x) + sin(8.0*R.y))*exp(3.0*t) + 191999998080.0*(-tanh(-40.0*(sin(7.0*R.x) + sin(8.0*R.y))*exp(3.0*t) + 0.4)**2 + 1)*exp(5.0*t)*cos(6.0*R.y)*cos(8.0*R.y) + 2.0*exp(t)*cos(2.0*R.y)\n"
     ]
    }
   ],
   "source": [
    "s_u0 = diff(u0, t) + u0*diff(u0, x) + u1*diff(u0, y) + diff(p, x) - (2.*diff(mu_SL(P(T)), x)*diff(u0, x) + diff(mu_SL(P(T)), y)*(diff(u0, y) + diff(u1, x))) + f_B0\n",
    "\n",
    "print(\"s_u0 = \" + str(s_u0))\n",
    "\n",
    "s_u1 = diff(u1, t) + u0*diff(u1, x) + u1*diff(u1, y) + diff(p, y) - (2.*diff(mu_SL(P(T)), y)*diff(u1, y) + diff(mu_SL(P(T)), x)*(diff(u0, y) + diff(u1, x))) + f_B1(T)\n",
    "\n",
    "print(\"s_u1 = \" + str(s_u1))"
   ]
  },
  {
   "cell_type": "markdown",
   "metadata": {},
   "source": [
    "# Solve the manufactured problem with Phaseflow"
   ]
  },
  {
   "cell_type": "code",
   "execution_count": 11,
   "metadata": {},
   "outputs": [
    {
     "name": "stderr",
     "output_type": "stream",
     "text": [
      "/usr/local/lib/python3.5/dist-packages/h5py/__init__.py:68: UserWarning: h5py is running against HDF5 1.8.16 when it was built against 1.8.18, this may cause problems\n",
      "  '{0}.{1}.{2}'.format(*version.hdf5_built_version_tuple)\n"
     ]
    }
   ],
   "source": [
    "import phaseflow"
   ]
  },
  {
   "cell_type": "markdown",
   "metadata": {},
   "source": []
  }
 ],
 "metadata": {
  "kernelspec": {
   "display_name": "Python 3",
   "language": "python",
   "name": "python3"
  },
  "language_info": {
   "codemirror_mode": {
    "name": "ipython",
    "version": 3
   },
   "file_extension": ".py",
   "mimetype": "text/x-python",
   "name": "python",
   "nbconvert_exporter": "python",
   "pygments_lexer": "ipython3",
   "version": "3.5.2"
  }
 },
 "nbformat": 4,
 "nbformat_minor": 2
}
