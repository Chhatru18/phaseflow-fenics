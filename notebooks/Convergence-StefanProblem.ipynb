{
 "cells": [
  {
   "cell_type": "code",
   "execution_count": 1,
   "metadata": {},
   "outputs": [],
   "source": [
    "%matplotlib inline"
   ]
  },
  {
   "cell_type": "code",
   "execution_count": 3,
   "metadata": {},
   "outputs": [],
   "source": [
    "import fenics\n",
    "\n",
    "import phaseflow"
   ]
  },
  {
   "cell_type": "markdown",
   "metadata": {},
   "source": [
    "# Demonstrate the Stefan problem."
   ]
  },
  {
   "cell_type": "markdown",
   "metadata": {},
   "source": [
    "Define function to run the Stefan problem with Phaseflow."
   ]
  },
  {
   "cell_type": "code",
   "execution_count": 15,
   "metadata": {},
   "outputs": [],
   "source": [
    "def stefan_problem(time_step_count = 100,\n",
    "        grid_size = 1000):\n",
    "\n",
    "    T_h = 1.\n",
    "    \n",
    "    T_c = -0.01\n",
    "    \n",
    "    end_time = 0.1\n",
    "                       \n",
    "    stefan_number = 0.125\n",
    "    \n",
    "    nt = time_step_count\n",
    "    \n",
    "    nx = grid_size\n",
    "    \n",
    "    solution, mesh = phaseflow.run(\n",
    "        output_dir = \"output/convergence_stefan_problem/nt\" + str(nt) + \"/nx\" + str(nx) + \"/\",\n",
    "        prandtl_number = 1.,\n",
    "        stefan_number = stefan_number,\n",
    "        gravity = [0.],\n",
    "        mesh = fenics.UnitIntervalMesh(grid_size),\n",
    "        initial_values_expression = (\n",
    "            \"0.\",\n",
    "            \"0.\",\n",
    "            \"(\" + str(T_h) + \" - \" + str(T_c) + \")*(x[0] <= 0.001) + \" + str(T_c)),\n",
    "        boundary_conditions = [\n",
    "            {'subspace': 0, 'value_expression': [0.], 'degree': 3,\n",
    "                 'location_expression': \"near(x[0],  0.) | near(x[0],  1.)\", 'method': \"topological\"},\n",
    "            {'subspace': 2, 'value_expression': T_h, 'degree': 2, \n",
    "                 'location_expression': \"near(x[0],  0.)\", 'method': \"topological\"},\n",
    "            {'subspace': 2, 'value_expression': T_c, 'degree': 2, \n",
    "                 'location_expression': \"near(x[0],  1.)\", 'method': \"topological\"}],\n",
    "        temperature_of_fusion = 0.,\n",
    "        regularization_smoothing_factor = 0.01,\n",
    "        end_time = end_time,\n",
    "        time_step_size = end_time/float(time_step_count),\n",
    "        stop_when_steady = False)\n",
    "        \n",
    "    velocity, pressure, temperature = solution.split()\n",
    "        \n",
    "    return temperature\n",
    "    "
   ]
  },
  {
   "cell_type": "markdown",
   "metadata": {},
   "source": [
    "# Set the baseline."
   ]
  },
  {
   "cell_type": "markdown",
   "metadata": {},
   "source": [
    "First we obtain a baseline solution."
   ]
  },
  {
   "cell_type": "code",
   "execution_count": 16,
   "metadata": {},
   "outputs": [
    {
     "name": "stdout",
     "output_type": "stream",
     "text": [
      "Running Phaseflow with the following arguments:\n",
      "({'time_step_size': 0.001, 'gravity': [0.0], 'restart_filepath': '', 'regularization_smoothing_factor': 0.01, 'prandtl_number': 1.0, 'restart': False, 'adaptive': False, 'end_time': 0.1, 'stefan_number': 0.125, 'steady_relative_tolerance': 0.0001, 'start_time': 0.0, 'nlp_absolute_tolerance': 1e-08, 'penalty_parameter': 1e-07, 'temperature_of_fusion': 0.0, 'thermal_conductivity': 1.0, 'ddT_m_B': <function run.<locals>.ddT_m_B at 0x7fd547957598>, 'initial_values_expression': ('0.', '0.', '(1.0 - -0.01)*(x[0] <= 0.001) + -0.01'), 'nlp_max_iterations': 50, 'liquid_viscosity': 1.0, 'solid_viscosity': 1e-08, 'boundary_conditions': [{'location_expression': 'near(x[0],  0.) | near(x[0],  1.)', 'value_expression': [0.0], 'degree': 3, 'method': 'topological', 'subspace': 0}, {'location_expression': 'near(x[0],  0.)', 'value_expression': 1.0, 'degree': 2, 'method': 'topological', 'subspace': 2}, {'location_expression': 'near(x[0],  1.)', 'value_expression': -0.01, 'degree': 2, 'method': 'topological', 'subspace': 2}], 'adaptive_metric': 'all', 'heat_capacity': 1.0, 'output_dir': 'output/convergence_stefan_problem/nt100/nx1000/', 'mesh': <dolfin.cpp.mesh.UnitIntervalMesh; proxy of <Swig Object of type 'std::shared_ptr< dolfin::UnitIntervalMesh > *' at 0x7fd540c3b570> >, 'adaptive_solver_tolerance': 0.0001, 'm_B': <function run.<locals>.m_B at 0x7fd5478ad400>, 'stop_when_steady': False, 'nlp_relative_tolerance': 1e-08, 'rayleigh_number': 1000000.0}, [])\n",
      "Running 1D problem\n",
      "Writing solution to HDF5+XDMF\n",
      "Reached time t = 0.001\n",
      "Writing solution to HDF5+XDMF\n",
      "Reached time t = 0.002\n",
      "Writing solution to HDF5+XDMF\n",
      "Reached time t = 0.003\n",
      "Writing solution to HDF5+XDMF\n",
      "Reached time t = 0.004\n",
      "Writing solution to HDF5+XDMF\n",
      "Reached time t = 0.005\n",
      "Writing solution to HDF5+XDMF\n",
      "Reached time t = 0.006\n",
      "Writing solution to HDF5+XDMF\n",
      "Reached time t = 0.007\n",
      "Writing solution to HDF5+XDMF\n",
      "Reached time t = 0.008\n",
      "Writing solution to HDF5+XDMF\n",
      "Reached time t = 0.009000000000000001\n",
      "Writing solution to HDF5+XDMF\n",
      "Reached time t = 0.01\n",
      "Writing solution to HDF5+XDMF\n",
      "Reached time t = 0.011\n",
      "Writing solution to HDF5+XDMF\n",
      "Reached time t = 0.012\n",
      "Writing solution to HDF5+XDMF\n",
      "Reached time t = 0.013000000000000001\n",
      "Writing solution to HDF5+XDMF\n",
      "Reached time t = 0.014\n",
      "Writing solution to HDF5+XDMF\n",
      "Reached time t = 0.015\n",
      "Writing solution to HDF5+XDMF\n",
      "Reached time t = 0.016\n",
      "Writing solution to HDF5+XDMF\n",
      "Reached time t = 0.017\n",
      "Writing solution to HDF5+XDMF\n",
      "Reached time t = 0.018000000000000002\n",
      "Writing solution to HDF5+XDMF\n",
      "Reached time t = 0.019\n",
      "Writing solution to HDF5+XDMF\n",
      "Reached time t = 0.02\n",
      "Writing solution to HDF5+XDMF\n",
      "Reached time t = 0.021\n",
      "Writing solution to HDF5+XDMF\n",
      "Reached time t = 0.022\n",
      "Writing solution to HDF5+XDMF\n",
      "Reached time t = 0.023\n",
      "Writing solution to HDF5+XDMF\n",
      "Reached time t = 0.024\n",
      "Writing solution to HDF5+XDMF\n",
      "Reached time t = 0.025\n",
      "Writing solution to HDF5+XDMF\n",
      "Reached time t = 0.026000000000000002\n",
      "Writing solution to HDF5+XDMF\n",
      "Reached time t = 0.027\n",
      "Writing solution to HDF5+XDMF\n",
      "Reached time t = 0.028\n",
      "Writing solution to HDF5+XDMF\n",
      "Reached time t = 0.029\n",
      "Writing solution to HDF5+XDMF\n",
      "Reached time t = 0.03\n",
      "Writing solution to HDF5+XDMF\n",
      "Reached time t = 0.031\n",
      "Writing solution to HDF5+XDMF\n",
      "Reached time t = 0.032\n",
      "Writing solution to HDF5+XDMF\n",
      "Reached time t = 0.033\n",
      "Writing solution to HDF5+XDMF\n",
      "Reached time t = 0.034\n",
      "Writing solution to HDF5+XDMF\n",
      "Reached time t = 0.035\n",
      "Writing solution to HDF5+XDMF\n",
      "Reached time t = 0.036000000000000004\n",
      "Writing solution to HDF5+XDMF\n",
      "Reached time t = 0.037\n",
      "Writing solution to HDF5+XDMF\n",
      "Reached time t = 0.038\n",
      "Writing solution to HDF5+XDMF\n",
      "Reached time t = 0.039\n",
      "Writing solution to HDF5+XDMF\n",
      "Reached time t = 0.04\n",
      "Writing solution to HDF5+XDMF\n",
      "Reached time t = 0.041\n",
      "Writing solution to HDF5+XDMF\n",
      "Reached time t = 0.042\n",
      "Writing solution to HDF5+XDMF\n",
      "Reached time t = 0.043000000000000003\n",
      "Writing solution to HDF5+XDMF\n",
      "Reached time t = 0.044\n",
      "Writing solution to HDF5+XDMF\n",
      "Reached time t = 0.045\n",
      "Writing solution to HDF5+XDMF\n",
      "Reached time t = 0.046\n",
      "Writing solution to HDF5+XDMF\n",
      "Reached time t = 0.047\n",
      "Writing solution to HDF5+XDMF\n",
      "Reached time t = 0.048\n",
      "Writing solution to HDF5+XDMF\n",
      "Reached time t = 0.049\n",
      "Writing solution to HDF5+XDMF\n",
      "Reached time t = 0.05\n",
      "Writing solution to HDF5+XDMF\n",
      "Reached time t = 0.051000000000000004\n",
      "Writing solution to HDF5+XDMF\n",
      "Reached time t = 0.052000000000000005\n",
      "Writing solution to HDF5+XDMF\n",
      "Reached time t = 0.053\n",
      "Writing solution to HDF5+XDMF\n",
      "Reached time t = 0.054\n",
      "Writing solution to HDF5+XDMF\n",
      "Reached time t = 0.055\n",
      "Writing solution to HDF5+XDMF\n",
      "Reached time t = 0.056\n",
      "Writing solution to HDF5+XDMF\n",
      "Reached time t = 0.057\n",
      "Writing solution to HDF5+XDMF\n",
      "Reached time t = 0.058\n",
      "Writing solution to HDF5+XDMF\n",
      "Reached time t = 0.059000000000000004\n",
      "Writing solution to HDF5+XDMF\n",
      "Reached time t = 0.06\n",
      "Writing solution to HDF5+XDMF\n",
      "Reached time t = 0.061\n",
      "Writing solution to HDF5+XDMF\n",
      "Reached time t = 0.062\n",
      "Writing solution to HDF5+XDMF\n",
      "Reached time t = 0.063\n",
      "Writing solution to HDF5+XDMF\n",
      "Reached time t = 0.064\n",
      "Writing solution to HDF5+XDMF\n",
      "Reached time t = 0.065\n",
      "Writing solution to HDF5+XDMF\n",
      "Reached time t = 0.066\n",
      "Writing solution to HDF5+XDMF\n",
      "Reached time t = 0.067\n",
      "Writing solution to HDF5+XDMF\n",
      "Reached time t = 0.068\n",
      "Writing solution to HDF5+XDMF\n",
      "Reached time t = 0.069\n",
      "Writing solution to HDF5+XDMF\n",
      "Reached time t = 0.07\n",
      "Writing solution to HDF5+XDMF\n",
      "Reached time t = 0.07100000000000001\n",
      "Writing solution to HDF5+XDMF\n",
      "Reached time t = 0.07200000000000001\n",
      "Writing solution to HDF5+XDMF\n",
      "Reached time t = 0.073\n",
      "Writing solution to HDF5+XDMF\n",
      "Reached time t = 0.074\n",
      "Writing solution to HDF5+XDMF\n",
      "Reached time t = 0.075\n",
      "Writing solution to HDF5+XDMF\n",
      "Reached time t = 0.076\n",
      "Writing solution to HDF5+XDMF\n",
      "Reached time t = 0.077\n",
      "Writing solution to HDF5+XDMF\n",
      "Reached time t = 0.078\n",
      "Writing solution to HDF5+XDMF\n",
      "Reached time t = 0.079\n",
      "Writing solution to HDF5+XDMF\n",
      "Reached time t = 0.08\n",
      "Writing solution to HDF5+XDMF\n",
      "Reached time t = 0.081\n",
      "Writing solution to HDF5+XDMF\n",
      "Reached time t = 0.082\n",
      "Writing solution to HDF5+XDMF\n",
      "Reached time t = 0.083\n",
      "Writing solution to HDF5+XDMF\n",
      "Reached time t = 0.084\n",
      "Writing solution to HDF5+XDMF\n",
      "Reached time t = 0.085\n",
      "Writing solution to HDF5+XDMF\n",
      "Reached time t = 0.08600000000000001\n",
      "Writing solution to HDF5+XDMF\n",
      "Reached time t = 0.08700000000000001\n",
      "Writing solution to HDF5+XDMF\n",
      "Reached time t = 0.088\n",
      "Writing solution to HDF5+XDMF\n",
      "Reached time t = 0.089\n",
      "Writing solution to HDF5+XDMF\n",
      "Reached time t = 0.09\n",
      "Writing solution to HDF5+XDMF\n",
      "Reached time t = 0.091\n",
      "Writing solution to HDF5+XDMF\n",
      "Reached time t = 0.092\n",
      "Writing solution to HDF5+XDMF\n",
      "Reached time t = 0.093\n",
      "Writing solution to HDF5+XDMF\n",
      "Reached time t = 0.094\n",
      "Writing solution to HDF5+XDMF\n",
      "Reached time t = 0.095\n",
      "Writing solution to HDF5+XDMF\n",
      "Reached time t = 0.096\n",
      "Writing solution to HDF5+XDMF\n",
      "Reached time t = 0.097\n",
      "Writing solution to HDF5+XDMF\n",
      "Reached time t = 0.098\n",
      "Writing solution to HDF5+XDMF\n",
      "Reached time t = 0.099\n",
      "Writing solution to HDF5+XDMF\n",
      "Reached time t = 0.1\n",
      "Writing solution to HDF5+XDMF\n",
      "Reached end time, t = 0.1\n"
     ]
    }
   ],
   "source": [
    "baseline_time_step_count = 100\n",
    "\n",
    "baseline_grid_size = 1000\n",
    "\n",
    "baseline_solution = stefan_problem(\n",
    "        time_step_count = baseline_time_step_count,\n",
    "        grid_size = baseline_grid_size)"
   ]
  },
  {
   "cell_type": "markdown",
   "metadata": {},
   "source": [
    "and plot the temperature field"
   ]
  },
  {
   "cell_type": "code",
   "execution_count": 17,
   "metadata": {},
   "outputs": [
    {
     "data": {
      "text/plain": [
       "[<matplotlib.lines.Line2D at 0x7fd540daf5f8>]"
      ]
     },
     "execution_count": 17,
     "metadata": {},
     "output_type": "execute_result"
    },
    {
     "data": {
      "image/png": "[encoded data removed]",
      "text/plain": [
       "<matplotlib.figure.Figure at 0x7fd541619908>"
      ]
     },
     "metadata": {},
     "output_type": "display_data"
    }
   ],
   "source": [
    "fenics.plot(baseline_solution)"
   ]
  },
  {
   "cell_type": "markdown",
   "metadata": {},
   "source": [
    "# Converge in time."
   ]
  },
  {
   "cell_type": "markdown",
   "metadata": {},
   "source": [
    "Use a Python dict to organize the results."
   ]
  },
  {
   "cell_type": "code",
   "execution_count": 18,
   "metadata": {},
   "outputs": [],
   "source": [
    "solutions = {\"nt100_nx1000\": baseline_solution}"
   ]
  },
  {
   "cell_type": "markdown",
   "metadata": {},
   "source": [
    "Define a function to compute new solutions and add the results to the dictionary."
   ]
  },
  {
   "cell_type": "code",
   "execution_count": 22,
   "metadata": {},
   "outputs": [],
   "source": [
    "def compute_and_append_new_solution(nt, nx, solutions):\n",
    "\n",
    "    solution = stefan_problem(\n",
    "        time_step_count = nt,\n",
    "        grid_size = nx)\n",
    "\n",
    "    solutions[\"nt\" + str(nt) + \"_nx\" + str(nx)] = solution\n",
    "    \n",
    "    print(solutions.keys())\n",
    "    \n",
    "    return solutions"
   ]
  },
  {
   "cell_type": "markdown",
   "metadata": {},
   "source": [
    "Set a constant rate of refinement so that convergence rates can be computed."
   ]
  },
  {
   "cell_type": "code",
   "execution_count": 20,
   "metadata": {},
   "outputs": [],
   "source": [
    "r = 2"
   ]
  },
  {
   "cell_type": "markdown",
   "metadata": {},
   "source": [
    "Adjust the time step until first order temporal convergence is verified. First we attempt increasing the size. We do not yet know if this is in the asymptotic range of convergence."
   ]
  },
  {
   "cell_type": "code",
   "execution_count": 23,
   "metadata": {},
   "outputs": [
    {
     "name": "stdout",
     "output_type": "stream",
     "text": [
      "Running Phaseflow with the following arguments:\n",
      "({'time_step_size': 0.002, 'gravity': [0.0], 'restart_filepath': '', 'regularization_smoothing_factor': 0.01, 'prandtl_number': 1.0, 'restart': False, 'adaptive': False, 'end_time': 0.1, 'stefan_number': 0.125, 'steady_relative_tolerance': 0.0001, 'start_time': 0.0, 'nlp_absolute_tolerance': 1e-08, 'penalty_parameter': 1e-07, 'temperature_of_fusion': 0.0, 'thermal_conductivity': 1.0, 'ddT_m_B': <function run.<locals>.ddT_m_B at 0x7fd5478b86a8>, 'initial_values_expression': ('0.', '0.', '(1.0 - -0.01)*(x[0] <= 0.001) + -0.01'), 'nlp_max_iterations': 50, 'liquid_viscosity': 1.0, 'solid_viscosity': 1e-08, 'boundary_conditions': [{'location_expression': 'near(x[0],  0.) | near(x[0],  1.)', 'value_expression': [0.0], 'degree': 3, 'method': 'topological', 'subspace': 0}, {'location_expression': 'near(x[0],  0.)', 'value_expression': 1.0, 'degree': 2, 'method': 'topological', 'subspace': 2}, {'location_expression': 'near(x[0],  1.)', 'value_expression': -0.01, 'degree': 2, 'method': 'topological', 'subspace': 2}], 'adaptive_metric': 'all', 'heat_capacity': 1.0, 'output_dir': 'output/convergence_stefan_problem/nt50/nx1000/', 'mesh': <dolfin.cpp.mesh.UnitIntervalMesh; proxy of <Swig Object of type 'std::shared_ptr< dolfin::UnitIntervalMesh > *' at 0x7fd541661930> >, 'adaptive_solver_tolerance': 0.0001, 'm_B': <function run.<locals>.m_B at 0x7fd5478b8510>, 'stop_when_steady': False, 'nlp_relative_tolerance': 1e-08, 'rayleigh_number': 1000000.0}, [])\n",
      "Running 1D problem\n",
      "Writing solution to HDF5+XDMF\n",
      "Reached time t = 0.002\n",
      "Writing solution to HDF5+XDMF\n",
      "Reached time t = 0.004\n",
      "Writing solution to HDF5+XDMF\n",
      "Reached time t = 0.006\n",
      "Writing solution to HDF5+XDMF\n",
      "Reached time t = 0.008\n",
      "Writing solution to HDF5+XDMF\n",
      "Reached time t = 0.01\n",
      "Writing solution to HDF5+XDMF\n",
      "Reached time t = 0.012\n",
      "Writing solution to HDF5+XDMF\n",
      "Reached time t = 0.014\n",
      "Writing solution to HDF5+XDMF\n",
      "Reached time t = 0.016\n",
      "Writing solution to HDF5+XDMF\n",
      "Reached time t = 0.018000000000000002\n",
      "Writing solution to HDF5+XDMF\n",
      "Reached time t = 0.02\n",
      "Writing solution to HDF5+XDMF\n",
      "Reached time t = 0.022\n",
      "Writing solution to HDF5+XDMF\n",
      "Reached time t = 0.024\n",
      "Writing solution to HDF5+XDMF\n",
      "Reached time t = 0.026000000000000002\n",
      "Writing solution to HDF5+XDMF\n",
      "Reached time t = 0.028\n",
      "Writing solution to HDF5+XDMF\n",
      "Reached time t = 0.03\n",
      "Writing solution to HDF5+XDMF\n",
      "Reached time t = 0.032\n",
      "Writing solution to HDF5+XDMF\n",
      "Reached time t = 0.034\n",
      "Writing solution to HDF5+XDMF\n",
      "Reached time t = 0.036000000000000004\n",
      "Writing solution to HDF5+XDMF\n",
      "Reached time t = 0.038\n",
      "Writing solution to HDF5+XDMF\n",
      "Reached time t = 0.04\n",
      "Writing solution to HDF5+XDMF\n",
      "Reached time t = 0.042\n",
      "Writing solution to HDF5+XDMF\n",
      "Reached time t = 0.044\n",
      "Writing solution to HDF5+XDMF\n",
      "Reached time t = 0.046\n",
      "Writing solution to HDF5+XDMF\n",
      "Reached time t = 0.048\n",
      "Writing solution to HDF5+XDMF\n",
      "Reached time t = 0.05\n",
      "Writing solution to HDF5+XDMF\n",
      "Reached time t = 0.052000000000000005\n",
      "Writing solution to HDF5+XDMF\n",
      "Reached time t = 0.054\n",
      "Writing solution to HDF5+XDMF\n",
      "Reached time t = 0.056\n",
      "Writing solution to HDF5+XDMF\n",
      "Reached time t = 0.058\n",
      "Writing solution to HDF5+XDMF\n",
      "Reached time t = 0.06\n",
      "Writing solution to HDF5+XDMF\n",
      "Reached time t = 0.062\n",
      "Writing solution to HDF5+XDMF\n",
      "Reached time t = 0.064\n",
      "Writing solution to HDF5+XDMF\n",
      "Reached time t = 0.066\n",
      "Writing solution to HDF5+XDMF\n",
      "Reached time t = 0.068\n",
      "Writing solution to HDF5+XDMF\n",
      "Reached time t = 0.07\n",
      "Writing solution to HDF5+XDMF\n",
      "Reached time t = 0.07200000000000001\n",
      "Writing solution to HDF5+XDMF\n",
      "Reached time t = 0.074\n",
      "Writing solution to HDF5+XDMF\n",
      "Reached time t = 0.076\n",
      "Writing solution to HDF5+XDMF\n",
      "Reached time t = 0.078\n",
      "Writing solution to HDF5+XDMF\n",
      "Reached time t = 0.08\n",
      "Writing solution to HDF5+XDMF\n",
      "Reached time t = 0.082\n",
      "Writing solution to HDF5+XDMF\n",
      "Reached time t = 0.084\n",
      "Writing solution to HDF5+XDMF\n",
      "Reached time t = 0.08600000000000001\n",
      "Writing solution to HDF5+XDMF\n",
      "Reached time t = 0.088\n",
      "Writing solution to HDF5+XDMF\n",
      "Reached time t = 0.09\n",
      "Writing solution to HDF5+XDMF\n",
      "Reached time t = 0.092\n",
      "Writing solution to HDF5+XDMF\n",
      "Reached time t = 0.094\n",
      "Writing solution to HDF5+XDMF\n",
      "Reached time t = 0.096\n",
      "Writing solution to HDF5+XDMF\n",
      "Reached time t = 0.098\n",
      "Writing solution to HDF5+XDMF\n",
      "Reached time t = 0.1\n",
      "Writing solution to HDF5+XDMF\n",
      "Reached end time, t = 0.1\n",
      "dict_keys(['nt100_nx1000', 'nt50_nx1000'])\n"
     ]
    }
   ],
   "source": [
    "nt = int(baseline_time_step_count/r)\n",
    "\n",
    "nx = baseline_grid_size\n",
    "\n",
    "solutions = compute_and_append_new_solution(nt, nx, solutions)"
   ]
  },
  {
   "cell_type": "markdown",
   "metadata": {},
   "source": [
    "Again lets visualize the temperature field."
   ]
  },
  {
   "cell_type": "code",
   "execution_count": 24,
   "metadata": {},
   "outputs": [
    {
     "data": {
      "text/plain": [
       "[<matplotlib.lines.Line2D at 0x7fd540de10f0>]"
      ]
     },
     "execution_count": 24,
     "metadata": {},
     "output_type": "execute_result"
    },
    {
     "data": {
      "image/png": "[encoded data removed]",
      "text/plain": [
       "<matplotlib.figure.Figure at 0x7fd540dceb38>"
      ]
     },
     "metadata": {},
     "output_type": "display_data"
    }
   ],
   "source": [
    "fenics.plot(solutions[\"nt50_nx1000\"])"
   ]
  },
  {
   "cell_type": "markdown",
   "metadata": {},
   "source": [
    "To compute a convergence rate, we need three solutions. The solution with smallest time step size will be used as the \"truth\". Then we can compute errors for the two coarser solutions, and compute the convergence rate from these errors. We already have two solutions, so we only need one more."
   ]
  },
  {
   "cell_type": "code",
   "execution_count": 25,
   "metadata": {},
   "outputs": [
    {
     "name": "stdout",
     "output_type": "stream",
     "text": [
      "Running Phaseflow with the following arguments:\n",
      "({'time_step_size': 0.004, 'gravity': [0.0], 'restart_filepath': '', 'regularization_smoothing_factor': 0.01, 'prandtl_number': 1.0, 'restart': False, 'adaptive': False, 'end_time': 0.1, 'stefan_number': 0.125, 'steady_relative_tolerance': 0.0001, 'start_time': 0.0, 'nlp_absolute_tolerance': 1e-08, 'penalty_parameter': 1e-07, 'temperature_of_fusion': 0.0, 'thermal_conductivity': 1.0, 'ddT_m_B': <function run.<locals>.ddT_m_B at 0x7fd5478b8840>, 'initial_values_expression': ('0.', '0.', '(1.0 - -0.01)*(x[0] <= 0.001) + -0.01'), 'nlp_max_iterations': 50, 'liquid_viscosity': 1.0, 'solid_viscosity': 1e-08, 'boundary_conditions': [{'location_expression': 'near(x[0],  0.) | near(x[0],  1.)', 'value_expression': [0.0], 'degree': 3, 'method': 'topological', 'subspace': 0}, {'location_expression': 'near(x[0],  0.)', 'value_expression': 1.0, 'degree': 2, 'method': 'topological', 'subspace': 2}, {'location_expression': 'near(x[0],  1.)', 'value_expression': -0.01, 'degree': 2, 'method': 'topological', 'subspace': 2}], 'adaptive_metric': 'all', 'heat_capacity': 1.0, 'output_dir': 'output/convergence_stefan_problem/nt25/nx1000/', 'mesh': <dolfin.cpp.mesh.UnitIntervalMesh; proxy of <Swig Object of type 'std::shared_ptr< dolfin::UnitIntervalMesh > *' at 0x7fd5478a2180> >, 'adaptive_solver_tolerance': 0.0001, 'm_B': <function run.<locals>.m_B at 0x7fd5478b8510>, 'stop_when_steady': False, 'nlp_relative_tolerance': 1e-08, 'rayleigh_number': 1000000.0}, [])\n",
      "Running 1D problem\n",
      "Writing solution to HDF5+XDMF\n",
      "Reached time t = 0.004\n",
      "Writing solution to HDF5+XDMF\n",
      "Reached time t = 0.008\n",
      "Writing solution to HDF5+XDMF\n",
      "Reached time t = 0.012\n",
      "Writing solution to HDF5+XDMF\n",
      "Reached time t = 0.016\n",
      "Writing solution to HDF5+XDMF\n",
      "Reached time t = 0.02\n",
      "Writing solution to HDF5+XDMF\n",
      "Reached time t = 0.024\n",
      "Writing solution to HDF5+XDMF\n",
      "Reached time t = 0.028\n",
      "Writing solution to HDF5+XDMF\n",
      "Reached time t = 0.032\n",
      "Writing solution to HDF5+XDMF\n",
      "Reached time t = 0.036000000000000004\n",
      "Writing solution to HDF5+XDMF\n",
      "Reached time t = 0.04\n",
      "Writing solution to HDF5+XDMF\n",
      "Reached time t = 0.044\n",
      "Writing solution to HDF5+XDMF\n",
      "Reached time t = 0.048\n",
      "Writing solution to HDF5+XDMF\n",
      "Reached time t = 0.052000000000000005\n",
      "Writing solution to HDF5+XDMF\n",
      "Reached time t = 0.056\n",
      "Writing solution to HDF5+XDMF\n",
      "Reached time t = 0.06\n",
      "Writing solution to HDF5+XDMF\n",
      "Reached time t = 0.064\n",
      "Writing solution to HDF5+XDMF\n",
      "Reached time t = 0.068\n",
      "Writing solution to HDF5+XDMF\n",
      "Reached time t = 0.07200000000000001\n",
      "Writing solution to HDF5+XDMF\n",
      "Reached time t = 0.076\n",
      "Writing solution to HDF5+XDMF\n",
      "Reached time t = 0.08\n",
      "Writing solution to HDF5+XDMF\n",
      "Reached time t = 0.084\n",
      "Writing solution to HDF5+XDMF\n",
      "Reached time t = 0.088\n",
      "Writing solution to HDF5+XDMF\n",
      "Reached time t = 0.092\n",
      "Writing solution to HDF5+XDMF\n",
      "Reached time t = 0.096\n",
      "Writing solution to HDF5+XDMF\n",
      "Reached time t = 0.1\n",
      "Writing solution to HDF5+XDMF\n",
      "Reached end time, t = 0.1\n",
      "dict_keys(['nt100_nx1000', 'nt50_nx1000', 'nt25_nx1000'])\n"
     ]
    }
   ],
   "source": [
    "solutions = compute_and_append_new_solution(int(nt/r), nx, solutions)"
   ]
  },
  {
   "cell_type": "code",
   "execution_count": 26,
   "metadata": {},
   "outputs": [
    {
     "data": {
      "text/plain": [
       "[<matplotlib.lines.Line2D at 0x7fd540d3acc0>]"
      ]
     },
     "execution_count": 26,
     "metadata": {},
     "output_type": "execute_result"
    },
    {
     "data": {
      "image/png": "[encoded data removed]",
      "text/plain": [
       "<matplotlib.figure.Figure at 0x7fd5415132e8>"
      ]
     },
     "metadata": {},
     "output_type": "display_data"
    }
   ],
   "source": [
    "fenics.plot(solutions[\"nt25_nx1000\"])"
   ]
  },
  {
   "cell_type": "markdown",
   "metadata": {},
   "source": [
    "With these solutions in hand, we compute the errors with respect to the finest solution"
   ]
  },
  {
   "cell_type": "code",
   "execution_count": 27,
   "metadata": {},
   "outputs": [
    {
     "name": "stdout",
     "output_type": "stream",
     "text": [
      "Calling FFC just-in-time (JIT) compiler, this may take some time.\n",
      "Calling FFC just-in-time (JIT) compiler, this may take some time.\n",
      "  Ignoring precision in integral metadata compiled using quadrature representation. Not implemented.\n",
      "Calling FFC just-in-time (JIT) compiler, this may take some time.\n",
      "[0.0005624865526258667, 0.0016902683539816517]\n"
     ]
    }
   ],
   "source": [
    "errors = [fenics.errornorm(solutions[\"nt100_nx1000\"], solutions[\"nt\" + str(nt) + \"_nx1000\"], \"L2\") \n",
    "          for nt in [50, 25]]\n",
    "\n",
    "print(errors)"
   ]
  },
  {
   "cell_type": "markdown",
   "metadata": {},
   "source": [
    "We compute the order of convergence as"
   ]
  },
  {
   "cell_type": "code",
   "execution_count": 28,
   "metadata": {},
   "outputs": [],
   "source": [
    "import math\n",
    "\n",
    "def compute_order(fine, coarse):\n",
    "    \n",
    "    return math.log(fine/coarse)/math.log(1./r)"
   ]
  },
  {
   "cell_type": "markdown",
   "metadata": {},
   "source": [
    "which gives us"
   ]
  },
  {
   "cell_type": "code",
   "execution_count": 29,
   "metadata": {},
   "outputs": [
    {
     "name": "stdout",
     "output_type": "stream",
     "text": [
      "1.5873618015887165\n"
     ]
    }
   ],
   "source": [
    "order = compute_order(errors[0], errors[1])\n",
    "\n",
    "print(order)"
   ]
  }
 ],
 "metadata": {
  "kernelspec": {
   "display_name": "Python 3",
   "language": "python",
   "name": "python3"
  },
  "language_info": {
   "codemirror_mode": {
    "name": "ipython",
    "version": 3
   },
   "file_extension": ".py",
   "mimetype": "text/x-python",
   "name": "python",
   "nbconvert_exporter": "python",
   "pygments_lexer": "ipython3",
   "version": "3.5.2"
  }
 },
 "nbformat": 4,
 "nbformat_minor": 2
}
